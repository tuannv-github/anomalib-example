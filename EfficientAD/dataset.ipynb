{
 "cells": [
  {
   "cell_type": "code",
   "execution_count": 18,
   "metadata": {},
   "outputs": [],
   "source": [
    "from pathlib import Path\n",
    "from anomalib.data.datasets import MVTecADDataset"
   ]
  },
  {
   "cell_type": "code",
   "execution_count": 19,
   "metadata": {},
   "outputs": [],
   "source": [
    "dataset_train = MVTecADDataset(root=Path(\"../datasets/MVTecAD\"),category=\"bottle\",split=\"train\")\n",
    "dataset_test = MVTecADDataset(root=Path(\"../datasets/MVTecAD\"),category=\"bottle\",split=\"test\")"
   ]
  },
  {
   "cell_type": "code",
   "execution_count": 34,
   "metadata": {},
   "outputs": [
    {
     "name": "stdout",
     "output_type": "stream",
     "text": [
      "<class 'anomalib.data.datasets.image.mvtecad.MVTecADDataset'>\n",
      "['__abstractmethods__', '__add__', '__annotations__', '__class__', '__class_getitem__', '__delattr__', '__dict__', '__dir__', '__doc__', '__eq__', '__format__', '__ge__', '__getattribute__', '__getitem__', '__gt__', '__hash__', '__init__', '__init_subclass__', '__le__', '__len__', '__lt__', '__module__', '__ne__', '__new__', '__orig_bases__', '__parameters__', '__reduce__', '__reduce_ex__', '__repr__', '__setattr__', '__sizeof__', '__slots__', '__str__', '__subclasshook__', '__weakref__', '_abc_impl', '_category', '_is_protocol', '_samples', 'augmentations', 'category', 'collate_fn', 'has_anomalous', 'has_normal', 'name', 'root_category', 'samples', 'split', 'subsample', 'task']\n",
      "209\n",
      "<class 'anomalib.data.datasets.image.mvtecad.MVTecADDataset'>\n",
      "['__abstractmethods__', '__add__', '__annotations__', '__class__', '__class_getitem__', '__delattr__', '__dict__', '__dir__', '__doc__', '__eq__', '__format__', '__ge__', '__getattribute__', '__getitem__', '__gt__', '__hash__', '__init__', '__init_subclass__', '__le__', '__len__', '__lt__', '__module__', '__ne__', '__new__', '__orig_bases__', '__parameters__', '__reduce__', '__reduce_ex__', '__repr__', '__setattr__', '__sizeof__', '__slots__', '__str__', '__subclasshook__', '__weakref__', '_abc_impl', '_category', '_is_protocol', '_samples', 'augmentations', 'category', 'collate_fn', 'has_anomalous', 'has_normal', 'name', 'root_category', 'samples', 'split', 'subsample', 'task']\n",
      "83\n"
     ]
    }
   ],
   "source": [
    "print(type(dataset_train))\n",
    "print(dir(dataset_train))\n",
    "print(len(dataset_train))\n",
    "\n",
    "print(type(dataset_test))\n",
    "print(dir(dataset_test))\n",
    "print(len(dataset_test))"
   ]
  },
  {
   "cell_type": "code",
   "execution_count": 33,
   "metadata": {},
   "outputs": [
    {
     "name": "stdout",
     "output_type": "stream",
     "text": [
      "<class 'anomalib.data.dataclasses.torch.image.ImageItem'>\n",
      "['__abstractmethods__', '__annotations__', '__class__', '__class_getitem__', '__dataclass_fields__', '__dataclass_params__', '__delattr__', '__dict__', '__dir__', '__doc__', '__eq__', '__format__', '__ge__', '__getattribute__', '__gt__', '__hash__', '__init__', '__init_subclass__', '__le__', '__lt__', '__match_args__', '__module__', '__ne__', '__new__', '__orig_bases__', '__parameters__', '__reduce__', '__reduce_ex__', '__repr__', '__setattr__', '__sizeof__', '__slots__', '__str__', '__subclasshook__', '__weakref__', '_abc_impl', '_is_protocol', 'anomaly_map', 'explanation', 'gt_label', 'gt_mask', 'image', 'image_path', 'mask_path', 'numpy_class', 'pred_label', 'pred_mask', 'pred_score', 'to_numpy', 'update', 'validate_anomaly_map', 'validate_explanation', 'validate_gt_label', 'validate_gt_mask', 'validate_image', 'validate_image_path', 'validate_mask_path', 'validate_pred_label', 'validate_pred_mask', 'validate_pred_score']\n"
     ]
    }
   ],
   "source": [
    "sample = dataset_train[0]\n",
    "print(type(sample))\n",
    "print(dir(sample))"
   ]
  },
  {
   "cell_type": "code",
   "execution_count": 36,
   "metadata": {},
   "outputs": [
    {
     "name": "stdout",
     "output_type": "stream",
     "text": [
      "torch.Size([3, 900, 900])\n"
     ]
    }
   ],
   "source": [
    "print(sample.image.shape)"
   ]
  }
 ],
 "metadata": {
  "kernelspec": {
   "display_name": "Python 3",
   "language": "python",
   "name": "python3"
  },
  "language_info": {
   "codemirror_mode": {
    "name": "ipython",
    "version": 3
   },
   "file_extension": ".py",
   "mimetype": "text/x-python",
   "name": "python",
   "nbconvert_exporter": "python",
   "pygments_lexer": "ipython3",
   "version": "3.10.12"
  }
 },
 "nbformat": 4,
 "nbformat_minor": 2
}
