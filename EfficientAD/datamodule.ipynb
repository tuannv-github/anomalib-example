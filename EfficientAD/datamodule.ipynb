{
 "cells": [
  {
   "cell_type": "code",
   "execution_count": 2,
   "metadata": {},
   "outputs": [
    {
     "name": "stderr",
     "output_type": "stream",
     "text": [
      "/home/vantuan_ngo/.local/lib/python3.10/site-packages/matplotlib/projections/__init__.py:63: UserWarning: Unable to import Axes3D. This may be due to multiple versions of Matplotlib being installed (e.g. as a system package and as a pip package). As a result, the 3D projection is not available.\n",
      "  warnings.warn(\"Unable to import Axes3D. This may be due to multiple versions of \"\n"
     ]
    }
   ],
   "source": [
    "from anomalib.data import MVTecAD"
   ]
  },
  {
   "cell_type": "code",
   "execution_count": 3,
   "metadata": {},
   "outputs": [],
   "source": [
    "datamodule = MVTecAD(root=\"../datasets/MVTecAD\", category=\"bottle\")\n",
    "datamodule.setup()\n"
   ]
  },
  {
   "cell_type": "code",
   "execution_count": 4,
   "metadata": {},
   "outputs": [
    {
     "name": "stdout",
     "output_type": "stream",
     "text": [
      "<class 'anomalib.data.datamodules.image.mvtecad.MVTecAD'>\n",
      "['CHECKPOINT_HYPER_PARAMS_KEY', 'CHECKPOINT_HYPER_PARAMS_NAME', 'CHECKPOINT_HYPER_PARAMS_TYPE', '__abstractmethods__', '__annotations__', '__class__', '__delattr__', '__dict__', '__dir__', '__doc__', '__eq__', '__format__', '__ge__', '__getattribute__', '__gt__', '__hash__', '__init__', '__init_subclass__', '__jit_unused_properties__', '__le__', '__lt__', '__module__', '__ne__', '__new__', '__reduce__', '__reduce_ex__', '__repr__', '__setattr__', '__sizeof__', '__slots__', '__str__', '__subclasshook__', '__weakref__', '_abc_impl', '_category', '_create_test_split', '_create_val_split', '_is_setup', '_log_hyperparams', '_samples', '_set_hparams', '_setup', '_to_hparams_dict', '_update_augmentations', '_update_subset_augmentations', 'allow_zero_length_dataloader_with_multiple_devices', 'category', 'eval_batch_size', 'from_config', 'from_datasets', 'hparams', 'hparams_initial', 'load_from_checkpoint', 'load_state_dict', 'name', 'num_workers', 'on_after_batch_transfer', 'on_before_batch_transfer', 'on_exception', 'predict_dataloader', 'prepare_data', 'prepare_data_per_node', 'root', 'save_hyperparameters', 'seed', 'setup', 'state_dict', 'task', 'teardown', 'test_augmentations', 'test_data', 'test_dataloader', 'test_split_mode', 'test_split_ratio', 'train_augmentations', 'train_batch_size', 'train_data', 'train_dataloader', 'trainer', 'transfer_batch_to_device', 'val_augmentations', 'val_data', 'val_dataloader', 'val_split_mode', 'val_split_ratio']\n"
     ]
    }
   ],
   "source": [
    "print(type(datamodule))\n",
    "print(dir(datamodule))"
   ]
  },
  {
   "cell_type": "code",
   "execution_count": 5,
   "metadata": {},
   "outputs": [
    {
     "name": "stdout",
     "output_type": "stream",
     "text": [
      "<anomalib.data.datasets.image.mvtecad.MVTecADDataset object at 0x7f5c547171f0>\n",
      "<anomalib.data.datasets.image.mvtecad.MVTecADDataset object at 0x7f5e7c106d10>\n"
     ]
    }
   ],
   "source": [
    "print(datamodule.train_data)\n",
    "print(datamodule.test_data)"
   ]
  },
  {
   "cell_type": "code",
   "execution_count": 6,
   "metadata": {},
   "outputs": [
    {
     "data": {
      "text/plain": [
       "torch.Size([32, 3, 900, 900])"
      ]
     },
     "execution_count": 6,
     "metadata": {},
     "output_type": "execute_result"
    }
   ],
   "source": [
    "i, data = next(enumerate(datamodule.train_dataloader()))\n",
    "data.image.shape"
   ]
  },
  {
   "cell_type": "code",
   "execution_count": 11,
   "metadata": {},
   "outputs": [
    {
     "data": {
      "text/html": [
       "<div>\n",
       "<style scoped>\n",
       "    .dataframe tbody tr th:only-of-type {\n",
       "        vertical-align: middle;\n",
       "    }\n",
       "\n",
       "    .dataframe tbody tr th {\n",
       "        vertical-align: top;\n",
       "    }\n",
       "\n",
       "    .dataframe thead th {\n",
       "        text-align: right;\n",
       "    }\n",
       "</style>\n",
       "<table border=\"1\" class=\"dataframe\">\n",
       "  <thead>\n",
       "    <tr style=\"text-align: right;\">\n",
       "      <th></th>\n",
       "      <th>path</th>\n",
       "      <th>split</th>\n",
       "      <th>label</th>\n",
       "      <th>image_path</th>\n",
       "      <th>label_index</th>\n",
       "      <th>mask_path</th>\n",
       "    </tr>\n",
       "  </thead>\n",
       "  <tbody>\n",
       "    <tr>\n",
       "      <th>0</th>\n",
       "      <td>/home/vantuan_ngo/anomalib-example/datasets/MV...</td>\n",
       "      <td>train</td>\n",
       "      <td>good</td>\n",
       "      <td>/home/vantuan_ngo/anomalib-example/datasets/MV...</td>\n",
       "      <td>0</td>\n",
       "      <td></td>\n",
       "    </tr>\n",
       "    <tr>\n",
       "      <th>1</th>\n",
       "      <td>/home/vantuan_ngo/anomalib-example/datasets/MV...</td>\n",
       "      <td>train</td>\n",
       "      <td>good</td>\n",
       "      <td>/home/vantuan_ngo/anomalib-example/datasets/MV...</td>\n",
       "      <td>0</td>\n",
       "      <td></td>\n",
       "    </tr>\n",
       "    <tr>\n",
       "      <th>2</th>\n",
       "      <td>/home/vantuan_ngo/anomalib-example/datasets/MV...</td>\n",
       "      <td>train</td>\n",
       "      <td>good</td>\n",
       "      <td>/home/vantuan_ngo/anomalib-example/datasets/MV...</td>\n",
       "      <td>0</td>\n",
       "      <td></td>\n",
       "    </tr>\n",
       "    <tr>\n",
       "      <th>3</th>\n",
       "      <td>/home/vantuan_ngo/anomalib-example/datasets/MV...</td>\n",
       "      <td>train</td>\n",
       "      <td>good</td>\n",
       "      <td>/home/vantuan_ngo/anomalib-example/datasets/MV...</td>\n",
       "      <td>0</td>\n",
       "      <td></td>\n",
       "    </tr>\n",
       "    <tr>\n",
       "      <th>4</th>\n",
       "      <td>/home/vantuan_ngo/anomalib-example/datasets/MV...</td>\n",
       "      <td>train</td>\n",
       "      <td>good</td>\n",
       "      <td>/home/vantuan_ngo/anomalib-example/datasets/MV...</td>\n",
       "      <td>0</td>\n",
       "      <td></td>\n",
       "    </tr>\n",
       "    <tr>\n",
       "      <th>...</th>\n",
       "      <td>...</td>\n",
       "      <td>...</td>\n",
       "      <td>...</td>\n",
       "      <td>...</td>\n",
       "      <td>...</td>\n",
       "      <td>...</td>\n",
       "    </tr>\n",
       "    <tr>\n",
       "      <th>204</th>\n",
       "      <td>/home/vantuan_ngo/anomalib-example/datasets/MV...</td>\n",
       "      <td>train</td>\n",
       "      <td>good</td>\n",
       "      <td>/home/vantuan_ngo/anomalib-example/datasets/MV...</td>\n",
       "      <td>0</td>\n",
       "      <td></td>\n",
       "    </tr>\n",
       "    <tr>\n",
       "      <th>205</th>\n",
       "      <td>/home/vantuan_ngo/anomalib-example/datasets/MV...</td>\n",
       "      <td>train</td>\n",
       "      <td>good</td>\n",
       "      <td>/home/vantuan_ngo/anomalib-example/datasets/MV...</td>\n",
       "      <td>0</td>\n",
       "      <td></td>\n",
       "    </tr>\n",
       "    <tr>\n",
       "      <th>206</th>\n",
       "      <td>/home/vantuan_ngo/anomalib-example/datasets/MV...</td>\n",
       "      <td>train</td>\n",
       "      <td>good</td>\n",
       "      <td>/home/vantuan_ngo/anomalib-example/datasets/MV...</td>\n",
       "      <td>0</td>\n",
       "      <td></td>\n",
       "    </tr>\n",
       "    <tr>\n",
       "      <th>207</th>\n",
       "      <td>/home/vantuan_ngo/anomalib-example/datasets/MV...</td>\n",
       "      <td>train</td>\n",
       "      <td>good</td>\n",
       "      <td>/home/vantuan_ngo/anomalib-example/datasets/MV...</td>\n",
       "      <td>0</td>\n",
       "      <td></td>\n",
       "    </tr>\n",
       "    <tr>\n",
       "      <th>208</th>\n",
       "      <td>/home/vantuan_ngo/anomalib-example/datasets/MV...</td>\n",
       "      <td>train</td>\n",
       "      <td>good</td>\n",
       "      <td>/home/vantuan_ngo/anomalib-example/datasets/MV...</td>\n",
       "      <td>0</td>\n",
       "      <td></td>\n",
       "    </tr>\n",
       "  </tbody>\n",
       "</table>\n",
       "<p>209 rows × 6 columns</p>\n",
       "</div>"
      ],
      "text/plain": [
       "                                                  path  split label  \\\n",
       "0    /home/vantuan_ngo/anomalib-example/datasets/MV...  train  good   \n",
       "1    /home/vantuan_ngo/anomalib-example/datasets/MV...  train  good   \n",
       "2    /home/vantuan_ngo/anomalib-example/datasets/MV...  train  good   \n",
       "3    /home/vantuan_ngo/anomalib-example/datasets/MV...  train  good   \n",
       "4    /home/vantuan_ngo/anomalib-example/datasets/MV...  train  good   \n",
       "..                                                 ...    ...   ...   \n",
       "204  /home/vantuan_ngo/anomalib-example/datasets/MV...  train  good   \n",
       "205  /home/vantuan_ngo/anomalib-example/datasets/MV...  train  good   \n",
       "206  /home/vantuan_ngo/anomalib-example/datasets/MV...  train  good   \n",
       "207  /home/vantuan_ngo/anomalib-example/datasets/MV...  train  good   \n",
       "208  /home/vantuan_ngo/anomalib-example/datasets/MV...  train  good   \n",
       "\n",
       "                                            image_path  label_index mask_path  \n",
       "0    /home/vantuan_ngo/anomalib-example/datasets/MV...            0            \n",
       "1    /home/vantuan_ngo/anomalib-example/datasets/MV...            0            \n",
       "2    /home/vantuan_ngo/anomalib-example/datasets/MV...            0            \n",
       "3    /home/vantuan_ngo/anomalib-example/datasets/MV...            0            \n",
       "4    /home/vantuan_ngo/anomalib-example/datasets/MV...            0            \n",
       "..                                                 ...          ...       ...  \n",
       "204  /home/vantuan_ngo/anomalib-example/datasets/MV...            0            \n",
       "205  /home/vantuan_ngo/anomalib-example/datasets/MV...            0            \n",
       "206  /home/vantuan_ngo/anomalib-example/datasets/MV...            0            \n",
       "207  /home/vantuan_ngo/anomalib-example/datasets/MV...            0            \n",
       "208  /home/vantuan_ngo/anomalib-example/datasets/MV...            0            \n",
       "\n",
       "[209 rows x 6 columns]"
      ]
     },
     "execution_count": 11,
     "metadata": {},
     "output_type": "execute_result"
    }
   ],
   "source": [
    "datamodule.train_data.samples"
   ]
  },
  {
   "cell_type": "code",
   "execution_count": 13,
   "metadata": {},
   "outputs": [
    {
     "data": {
      "text/html": [
       "<div>\n",
       "<style scoped>\n",
       "    .dataframe tbody tr th:only-of-type {\n",
       "        vertical-align: middle;\n",
       "    }\n",
       "\n",
       "    .dataframe tbody tr th {\n",
       "        vertical-align: top;\n",
       "    }\n",
       "\n",
       "    .dataframe thead th {\n",
       "        text-align: right;\n",
       "    }\n",
       "</style>\n",
       "<table border=\"1\" class=\"dataframe\">\n",
       "  <thead>\n",
       "    <tr style=\"text-align: right;\">\n",
       "      <th></th>\n",
       "      <th>path</th>\n",
       "      <th>split</th>\n",
       "      <th>label</th>\n",
       "      <th>image_path</th>\n",
       "      <th>label_index</th>\n",
       "      <th>mask_path</th>\n",
       "    </tr>\n",
       "  </thead>\n",
       "  <tbody>\n",
       "    <tr>\n",
       "      <th>0</th>\n",
       "      <td>/home/vantuan_ngo/anomalib-example/datasets/MV...</td>\n",
       "      <td>test</td>\n",
       "      <td>broken_large</td>\n",
       "      <td>/home/vantuan_ngo/anomalib-example/datasets/MV...</td>\n",
       "      <td>1</td>\n",
       "      <td>/home/vantuan_ngo/anomalib-example/datasets/MV...</td>\n",
       "    </tr>\n",
       "    <tr>\n",
       "      <th>1</th>\n",
       "      <td>/home/vantuan_ngo/anomalib-example/datasets/MV...</td>\n",
       "      <td>test</td>\n",
       "      <td>broken_large</td>\n",
       "      <td>/home/vantuan_ngo/anomalib-example/datasets/MV...</td>\n",
       "      <td>1</td>\n",
       "      <td>/home/vantuan_ngo/anomalib-example/datasets/MV...</td>\n",
       "    </tr>\n",
       "    <tr>\n",
       "      <th>2</th>\n",
       "      <td>/home/vantuan_ngo/anomalib-example/datasets/MV...</td>\n",
       "      <td>test</td>\n",
       "      <td>broken_large</td>\n",
       "      <td>/home/vantuan_ngo/anomalib-example/datasets/MV...</td>\n",
       "      <td>1</td>\n",
       "      <td>/home/vantuan_ngo/anomalib-example/datasets/MV...</td>\n",
       "    </tr>\n",
       "    <tr>\n",
       "      <th>3</th>\n",
       "      <td>/home/vantuan_ngo/anomalib-example/datasets/MV...</td>\n",
       "      <td>test</td>\n",
       "      <td>broken_large</td>\n",
       "      <td>/home/vantuan_ngo/anomalib-example/datasets/MV...</td>\n",
       "      <td>1</td>\n",
       "      <td>/home/vantuan_ngo/anomalib-example/datasets/MV...</td>\n",
       "    </tr>\n",
       "    <tr>\n",
       "      <th>4</th>\n",
       "      <td>/home/vantuan_ngo/anomalib-example/datasets/MV...</td>\n",
       "      <td>test</td>\n",
       "      <td>broken_large</td>\n",
       "      <td>/home/vantuan_ngo/anomalib-example/datasets/MV...</td>\n",
       "      <td>1</td>\n",
       "      <td>/home/vantuan_ngo/anomalib-example/datasets/MV...</td>\n",
       "    </tr>\n",
       "    <tr>\n",
       "      <th>...</th>\n",
       "      <td>...</td>\n",
       "      <td>...</td>\n",
       "      <td>...</td>\n",
       "      <td>...</td>\n",
       "      <td>...</td>\n",
       "      <td>...</td>\n",
       "    </tr>\n",
       "    <tr>\n",
       "      <th>78</th>\n",
       "      <td>/home/vantuan_ngo/anomalib-example/datasets/MV...</td>\n",
       "      <td>test</td>\n",
       "      <td>good</td>\n",
       "      <td>/home/vantuan_ngo/anomalib-example/datasets/MV...</td>\n",
       "      <td>0</td>\n",
       "      <td></td>\n",
       "    </tr>\n",
       "    <tr>\n",
       "      <th>79</th>\n",
       "      <td>/home/vantuan_ngo/anomalib-example/datasets/MV...</td>\n",
       "      <td>test</td>\n",
       "      <td>good</td>\n",
       "      <td>/home/vantuan_ngo/anomalib-example/datasets/MV...</td>\n",
       "      <td>0</td>\n",
       "      <td></td>\n",
       "    </tr>\n",
       "    <tr>\n",
       "      <th>80</th>\n",
       "      <td>/home/vantuan_ngo/anomalib-example/datasets/MV...</td>\n",
       "      <td>test</td>\n",
       "      <td>good</td>\n",
       "      <td>/home/vantuan_ngo/anomalib-example/datasets/MV...</td>\n",
       "      <td>0</td>\n",
       "      <td></td>\n",
       "    </tr>\n",
       "    <tr>\n",
       "      <th>81</th>\n",
       "      <td>/home/vantuan_ngo/anomalib-example/datasets/MV...</td>\n",
       "      <td>test</td>\n",
       "      <td>good</td>\n",
       "      <td>/home/vantuan_ngo/anomalib-example/datasets/MV...</td>\n",
       "      <td>0</td>\n",
       "      <td></td>\n",
       "    </tr>\n",
       "    <tr>\n",
       "      <th>82</th>\n",
       "      <td>/home/vantuan_ngo/anomalib-example/datasets/MV...</td>\n",
       "      <td>test</td>\n",
       "      <td>good</td>\n",
       "      <td>/home/vantuan_ngo/anomalib-example/datasets/MV...</td>\n",
       "      <td>0</td>\n",
       "      <td></td>\n",
       "    </tr>\n",
       "  </tbody>\n",
       "</table>\n",
       "<p>83 rows × 6 columns</p>\n",
       "</div>"
      ],
      "text/plain": [
       "                                                 path split         label  \\\n",
       "0   /home/vantuan_ngo/anomalib-example/datasets/MV...  test  broken_large   \n",
       "1   /home/vantuan_ngo/anomalib-example/datasets/MV...  test  broken_large   \n",
       "2   /home/vantuan_ngo/anomalib-example/datasets/MV...  test  broken_large   \n",
       "3   /home/vantuan_ngo/anomalib-example/datasets/MV...  test  broken_large   \n",
       "4   /home/vantuan_ngo/anomalib-example/datasets/MV...  test  broken_large   \n",
       "..                                                ...   ...           ...   \n",
       "78  /home/vantuan_ngo/anomalib-example/datasets/MV...  test          good   \n",
       "79  /home/vantuan_ngo/anomalib-example/datasets/MV...  test          good   \n",
       "80  /home/vantuan_ngo/anomalib-example/datasets/MV...  test          good   \n",
       "81  /home/vantuan_ngo/anomalib-example/datasets/MV...  test          good   \n",
       "82  /home/vantuan_ngo/anomalib-example/datasets/MV...  test          good   \n",
       "\n",
       "                                           image_path  label_index  \\\n",
       "0   /home/vantuan_ngo/anomalib-example/datasets/MV...            1   \n",
       "1   /home/vantuan_ngo/anomalib-example/datasets/MV...            1   \n",
       "2   /home/vantuan_ngo/anomalib-example/datasets/MV...            1   \n",
       "3   /home/vantuan_ngo/anomalib-example/datasets/MV...            1   \n",
       "4   /home/vantuan_ngo/anomalib-example/datasets/MV...            1   \n",
       "..                                                ...          ...   \n",
       "78  /home/vantuan_ngo/anomalib-example/datasets/MV...            0   \n",
       "79  /home/vantuan_ngo/anomalib-example/datasets/MV...            0   \n",
       "80  /home/vantuan_ngo/anomalib-example/datasets/MV...            0   \n",
       "81  /home/vantuan_ngo/anomalib-example/datasets/MV...            0   \n",
       "82  /home/vantuan_ngo/anomalib-example/datasets/MV...            0   \n",
       "\n",
       "                                            mask_path  \n",
       "0   /home/vantuan_ngo/anomalib-example/datasets/MV...  \n",
       "1   /home/vantuan_ngo/anomalib-example/datasets/MV...  \n",
       "2   /home/vantuan_ngo/anomalib-example/datasets/MV...  \n",
       "3   /home/vantuan_ngo/anomalib-example/datasets/MV...  \n",
       "4   /home/vantuan_ngo/anomalib-example/datasets/MV...  \n",
       "..                                                ...  \n",
       "78                                                     \n",
       "79                                                     \n",
       "80                                                     \n",
       "81                                                     \n",
       "82                                                     \n",
       "\n",
       "[83 rows x 6 columns]"
      ]
     },
     "execution_count": 13,
     "metadata": {},
     "output_type": "execute_result"
    }
   ],
   "source": [
    "datamodule.test_data.samples"
   ]
  },
  {
   "cell_type": "code",
   "execution_count": 21,
   "metadata": {},
   "outputs": [
    {
     "name": "stdout",
     "output_type": "stream",
     "text": [
      "path           /home/vantuan_ngo/anomalib-example/datasets/MV...\n",
      "split                                                      train\n",
      "label                                                       good\n",
      "image_path     /home/vantuan_ngo/anomalib-example/datasets/MV...\n",
      "label_index                                                    0\n",
      "mask_path                                                       \n",
      "Name: 0, dtype: object\n"
     ]
    }
   ],
   "source": [
    "print(datamodule.train_data.samples.iloc[0])"
   ]
  },
  {
   "cell_type": "code",
   "execution_count": 22,
   "metadata": {},
   "outputs": [
    {
     "name": "stdout",
     "output_type": "stream",
     "text": [
      "/home/vantuan_ngo/anomalib-example/datasets/MVTecAD/bottle\n",
      "train\n",
      "good\n",
      "/home/vantuan_ngo/anomalib-example/datasets/MVTecAD/bottle/train/good/000.png\n",
      "0\n",
      "\n"
     ]
    }
   ],
   "source": [
    "print(datamodule.train_data.samples.iloc[0]['path'])\n",
    "print(datamodule.train_data.samples.iloc[0]['split'])\n",
    "print(datamodule.train_data.samples.iloc[0]['label'])\n",
    "print(datamodule.train_data.samples.iloc[0]['image_path'])\n",
    "print(datamodule.train_data.samples.iloc[0]['label_index'])\n",
    "print(datamodule.train_data.samples.iloc[0]['mask_path'])"
   ]
  }
 ],
 "metadata": {
  "kernelspec": {
   "display_name": "Python 3",
   "language": "python",
   "name": "python3"
  },
  "language_info": {
   "codemirror_mode": {
    "name": "ipython",
    "version": 3
   },
   "file_extension": ".py",
   "mimetype": "text/x-python",
   "name": "python",
   "nbconvert_exporter": "python",
   "pygments_lexer": "ipython3",
   "version": "3.10.12"
  }
 },
 "nbformat": 4,
 "nbformat_minor": 2
}
