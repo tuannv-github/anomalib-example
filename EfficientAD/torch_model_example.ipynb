{
 "cells": [
  {
   "cell_type": "code",
   "execution_count": 1,
   "id": "caeb90c8-5191-4199-bb56-859dc22d9b92",
   "metadata": {},
   "outputs": [
    {
     "name": "stderr",
     "output_type": "stream",
     "text": [
      "/home/vantuan_ngo/.local/lib/python3.10/site-packages/matplotlib/projections/__init__.py:63: UserWarning: Unable to import Axes3D. This may be due to multiple versions of Matplotlib being installed (e.g. as a system package and as a pip package). As a result, the 3D projection is not available.\n",
      "  warnings.warn(\"Unable to import Axes3D. This may be due to multiple versions of \"\n"
     ]
    }
   ],
   "source": [
    "import torch\n",
    "from torch_model import *"
   ]
  },
  {
   "cell_type": "code",
   "execution_count": 2,
   "id": "08ee5de1-c8bd-4025-9a06-6b5b05749fab",
   "metadata": {},
   "outputs": [],
   "source": [
    "model = EfficientAdModel()"
   ]
  },
  {
   "cell_type": "code",
   "execution_count": 3,
   "id": "fb76be74-8181-47ca-b7df-6cadc0ab3205",
   "metadata": {},
   "outputs": [
    {
     "data": {
      "text/plain": [
       "EfficientAdModel(\n",
       "  (teacher): SmallPatchDescriptionNetwork(\n",
       "    (conv1): Conv2d(3, 128, kernel_size=(4, 4), stride=(1, 1))\n",
       "    (conv2): Conv2d(128, 256, kernel_size=(4, 4), stride=(1, 1))\n",
       "    (conv3): Conv2d(256, 256, kernel_size=(3, 3), stride=(1, 1))\n",
       "    (conv4): Conv2d(256, 384, kernel_size=(4, 4), stride=(1, 1))\n",
       "    (avgpool1): AvgPool2d(kernel_size=2, stride=2, padding=0)\n",
       "    (avgpool2): AvgPool2d(kernel_size=2, stride=2, padding=0)\n",
       "  )\n",
       "  (student): SmallPatchDescriptionNetwork(\n",
       "    (conv1): Conv2d(3, 128, kernel_size=(4, 4), stride=(1, 1))\n",
       "    (conv2): Conv2d(128, 256, kernel_size=(4, 4), stride=(1, 1))\n",
       "    (conv3): Conv2d(256, 256, kernel_size=(3, 3), stride=(1, 1))\n",
       "    (conv4): Conv2d(256, 768, kernel_size=(4, 4), stride=(1, 1))\n",
       "    (avgpool1): AvgPool2d(kernel_size=2, stride=2, padding=0)\n",
       "    (avgpool2): AvgPool2d(kernel_size=2, stride=2, padding=0)\n",
       "  )\n",
       "  (ae): AutoEncoder(\n",
       "    (encoder): Encoder(\n",
       "      (enconv1): Conv2d(3, 32, kernel_size=(4, 4), stride=(2, 2), padding=(1, 1))\n",
       "      (enconv2): Conv2d(32, 32, kernel_size=(4, 4), stride=(2, 2), padding=(1, 1))\n",
       "      (enconv3): Conv2d(32, 64, kernel_size=(4, 4), stride=(2, 2), padding=(1, 1))\n",
       "      (enconv4): Conv2d(64, 64, kernel_size=(4, 4), stride=(2, 2), padding=(1, 1))\n",
       "      (enconv5): Conv2d(64, 64, kernel_size=(4, 4), stride=(2, 2), padding=(1, 1))\n",
       "      (enconv6): Conv2d(64, 64, kernel_size=(8, 8), stride=(1, 1))\n",
       "    )\n",
       "    (decoder): Decoder(\n",
       "      (deconv1): Conv2d(64, 64, kernel_size=(4, 4), stride=(1, 1), padding=(2, 2))\n",
       "      (deconv2): Conv2d(64, 64, kernel_size=(4, 4), stride=(1, 1), padding=(2, 2))\n",
       "      (deconv3): Conv2d(64, 64, kernel_size=(4, 4), stride=(1, 1), padding=(2, 2))\n",
       "      (deconv4): Conv2d(64, 64, kernel_size=(4, 4), stride=(1, 1), padding=(2, 2))\n",
       "      (deconv5): Conv2d(64, 64, kernel_size=(4, 4), stride=(1, 1), padding=(2, 2))\n",
       "      (deconv6): Conv2d(64, 64, kernel_size=(4, 4), stride=(1, 1), padding=(2, 2))\n",
       "      (deconv7): Conv2d(64, 64, kernel_size=(3, 3), stride=(1, 1), padding=(1, 1))\n",
       "      (deconv8): Conv2d(64, 384, kernel_size=(3, 3), stride=(1, 1), padding=(1, 1))\n",
       "      (dropout1): Dropout(p=0.2, inplace=False)\n",
       "      (dropout2): Dropout(p=0.2, inplace=False)\n",
       "      (dropout3): Dropout(p=0.2, inplace=False)\n",
       "      (dropout4): Dropout(p=0.2, inplace=False)\n",
       "      (dropout5): Dropout(p=0.2, inplace=False)\n",
       "      (dropout6): Dropout(p=0.2, inplace=False)\n",
       "    )\n",
       "  )\n",
       "  (mean_std): ParameterDict(\n",
       "      (mean): Parameter containing: [torch.FloatTensor of size 1x384x1x1]\n",
       "      (std): Parameter containing: [torch.FloatTensor of size 1x384x1x1]\n",
       "  )\n",
       "  (quantiles): ParameterDict(\n",
       "      (qa_ae): Parameter containing: [torch.FloatTensor of size ]\n",
       "      (qa_st): Parameter containing: [torch.FloatTensor of size ]\n",
       "      (qb_ae): Parameter containing: [torch.FloatTensor of size ]\n",
       "      (qb_st): Parameter containing: [torch.FloatTensor of size ]\n",
       "  )\n",
       ")"
      ]
     },
     "execution_count": 3,
     "metadata": {},
     "output_type": "execute_result"
    }
   ],
   "source": [
    "model.eval()"
   ]
  },
  {
   "cell_type": "code",
   "execution_count": 6,
   "id": "858664b0-6538-4453-bc68-fb35eb7e5897",
   "metadata": {},
   "outputs": [
    {
     "data": {
      "text/plain": [
       "torch.Size([32, 1, 256, 256])"
      ]
     },
     "execution_count": 6,
     "metadata": {},
     "output_type": "execute_result"
    }
   ],
   "source": [
    "input_tensor = torch.randn(32, 3, 256, 256)\n",
    "output = model(input_tensor)\n",
    "output.anomaly_map.shape"
   ]
  }
 ],
 "metadata": {
  "kernelspec": {
   "display_name": "Python 3 (ipykernel)",
   "language": "python",
   "name": "python3"
  },
  "language_info": {
   "codemirror_mode": {
    "name": "ipython",
    "version": 3
   },
   "file_extension": ".py",
   "mimetype": "text/x-python",
   "name": "python",
   "nbconvert_exporter": "python",
   "pygments_lexer": "ipython3",
   "version": "3.10.12"
  }
 },
 "nbformat": 4,
 "nbformat_minor": 5
}
