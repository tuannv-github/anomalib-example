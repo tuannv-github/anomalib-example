{
 "cells": [
  {
   "cell_type": "code",
   "execution_count": 1,
   "metadata": {},
   "outputs": [
    {
     "name": "stderr",
     "output_type": "stream",
     "text": [
      "/home/vantuan_ngo/.local/lib/python3.10/site-packages/matplotlib/projections/__init__.py:63: UserWarning: Unable to import Axes3D. This may be due to multiple versions of Matplotlib being installed (e.g. as a system package and as a pip package). As a result, the 3D projection is not available.\n",
      "  warnings.warn(\"Unable to import Axes3D. This may be due to multiple versions of \"\n"
     ]
    }
   ],
   "source": [
    "import os\n",
    "import torch\n",
    "import torch.nn as nn\n",
    "import torch.optim as optim\n",
    "import numpy as np\n",
    "from torch.utils.data import DataLoader, TensorDataset\n",
    "import matplotlib.pyplot as plt\n",
    "\n",
    "# Set random seed for reproducibility\n",
    "torch.manual_seed(42)\n",
    "np.random.seed(42)\n",
    "\n",
    "# Device configuration\n",
    "device = torch.device(\"cuda\" if torch.cuda.is_available() else \"cpu\")"
   ]
  },
  {
   "cell_type": "code",
   "execution_count": 1,
   "metadata": {},
   "outputs": [
    {
     "name": "stderr",
     "output_type": "stream",
     "text": [
      "/home/vantuan_ngo/.local/lib/python3.10/site-packages/matplotlib/projections/__init__.py:63: UserWarning: Unable to import Axes3D. This may be due to multiple versions of Matplotlib being installed (e.g. as a system package and as a pip package). As a result, the 3D projection is not available.\n",
      "  warnings.warn(\"Unable to import Axes3D. This may be due to multiple versions of \"\n"
     ]
    }
   ],
   "source": [
    "import importlib\n",
    "\n",
    "import utils\n",
    "importlib.reload(utils)\n",
    "from utils import *\n",
    "\n",
    "import AD\n",
    "importlib.reload(AD)\n",
    "from AD import *\n",
    "\n",
    "import utils_dataset\n",
    "importlib.reload(utils_dataset)\n",
    "from utils_dataset import *"
   ]
  },
  {
   "cell_type": "code",
   "execution_count": 3,
   "metadata": {},
   "outputs": [
    {
     "name": "stderr",
     "output_type": "stream",
     "text": [
      "/tmp/ipykernel_2280723/122243062.py:4: FutureWarning: You are using `torch.load` with `weights_only=False` (the current default value), which uses the default pickle module implicitly. It is possible to construct malicious pickle data which will execute arbitrary code during unpickling (See https://github.com/pytorch/pytorch/blob/main/SECURITY.md#untrusted-models for more details). In a future release, the default value for `weights_only` will be flipped to `True`. This limits the functions that could be executed during unpickling. Arbitrary objects will no longer be allowed to be loaded via this mode unless they are explicitly allowlisted by the user via `torch.serialization.add_safe_globals`. We recommend you start setting `weights_only=True` for any use case where you don't have full control of the loaded file. Please open an issue on GitHub for any issues related to this experimental feature.\n",
      "  model = torch.load(model_path, map_location=device)\n"
     ]
    },
    {
     "name": "stdout",
     "output_type": "stream",
     "text": [
      "Model loaded from ./models/ae_latest.pth\n"
     ]
    }
   ],
   "source": [
    "# Load the latest model\n",
    "model_path = \"./models/ae_latest.pth\"\n",
    "if os.path.exists(model_path):\n",
    "    model = torch.load(model_path, map_location=device)\n",
    "    model.eval()\n",
    "    print(f\"Model loaded from {model_path}\")\n",
    "else:\n",
    "    print(f\"Model file {model_path} not found\")"
   ]
  },
  {
   "cell_type": "code",
   "execution_count": 67,
   "metadata": {},
   "outputs": [
    {
     "name": "stdout",
     "output_type": "stream",
     "text": [
      "TEST_DF_FILE_PATH:  ../datasets/FccIQ/synthetic/test_df.csv\n",
      "test_df.shape: (14729, 7)\n",
      "   SNR  SIR  MCS  FRQ  Slot  \\\n",
      "0   18   -1    1   -1    75   \n",
      "1   22   -1    1   -1     7   \n",
      "2   34   -1    2   -1    61   \n",
      "3   22   -1   12   -1    13   \n",
      "4   30   -1    1   -1    49   \n",
      "\n",
      "                                           file_path ground_truth_file_path  \n",
      "0  /home/vantuan_ngo/anomalib-example/FccIQ/../da...                    NaN  \n",
      "1  /home/vantuan_ngo/anomalib-example/FccIQ/../da...                    NaN  \n",
      "2  /home/vantuan_ngo/anomalib-example/FccIQ/../da...                    NaN  \n",
      "3  /home/vantuan_ngo/anomalib-example/FccIQ/../da...                    NaN  \n",
      "4  /home/vantuan_ngo/anomalib-example/FccIQ/../da...                    NaN  \n"
     ]
    }
   ],
   "source": [
    "TEST_DF_FILE_PATH = os.path.join(\"../datasets/FccIQ/synthetic/test_df.csv\")\n",
    "print(\"TEST_DF_FILE_PATH: \", TEST_DF_FILE_PATH)\n",
    "test_df = pd.read_csv(TEST_DF_FILE_PATH)\n",
    "print(f'test_df.shape: {test_df.shape}')\n",
    "print(test_df.head())"
   ]
  },
  {
   "cell_type": "code",
   "execution_count": 65,
   "metadata": {},
   "outputs": [
    {
     "name": "stdout",
     "output_type": "stream",
     "text": [
      "[-1  2  4  6  8 10 14 18 22 26 30 34 38]\n",
      "------- sir  -1\n",
      "test_sir_df.shape: (71, 7)\n",
      "tests.shape: torch.Size([71, 2, 300, 14])\n",
      "ground_truths.shape: torch.Size([71, 1])\n",
      "anomaly_maps.shape: (71, 1, 300, 14)\n",
      "anomaly_bins.shape: (71, 1, 300, 14)\n",
      "verdicts.shape: (71, 1)\n",
      "ground_truths.shape: (71, 1)\n",
      "Accuracy: 1.0000\n",
      "Precision: 0.0000\n",
      "Recall: 0.0000\n",
      "F1 Score: 0.0000\n",
      "Confusion Matrix:\n",
      "[[71  0]\n",
      " [ 0  0]]\n",
      "Accuracy: 1.0000\n",
      "Precision: 0.0000\n",
      "Recall: 0.0000\n",
      "F1 Score: 0.0000\n",
      "Confusion Matrix:\n",
      "[[71  0]\n",
      " [ 0  0]]\n"
     ]
    },
    {
     "name": "stderr",
     "output_type": "stream",
     "text": [
      "/home/vantuan_ngo/.local/lib/python3.10/site-packages/sklearn/metrics/_classification.py:1565: UndefinedMetricWarning: Precision is ill-defined and being set to 0.0 due to no predicted samples. Use `zero_division` parameter to control this behavior.\n",
      "  _warn_prf(average, modifier, f\"{metric.capitalize()} is\", len(result))\n",
      "/home/vantuan_ngo/.local/lib/python3.10/site-packages/sklearn/metrics/_classification.py:1565: UndefinedMetricWarning: Recall is ill-defined and being set to 0.0 due to no true samples. Use `zero_division` parameter to control this behavior.\n",
      "  _warn_prf(average, modifier, f\"{metric.capitalize()} is\", len(result))\n",
      "/home/vantuan_ngo/.local/lib/python3.10/site-packages/sklearn/metrics/_classification.py:1565: UndefinedMetricWarning: F-score is ill-defined and being set to 0.0 due to no true nor predicted samples. Use `zero_division` parameter to control this behavior.\n",
      "  _warn_prf(average, modifier, f\"{metric.capitalize()} is\", len(result))\n",
      "/home/vantuan_ngo/.local/lib/python3.10/site-packages/sklearn/metrics/_classification.py:1565: UndefinedMetricWarning: Precision is ill-defined and being set to 0.0 due to no predicted samples. Use `zero_division` parameter to control this behavior.\n",
      "  _warn_prf(average, modifier, f\"{metric.capitalize()} is\", len(result))\n",
      "/home/vantuan_ngo/.local/lib/python3.10/site-packages/sklearn/metrics/_classification.py:1565: UndefinedMetricWarning: Recall is ill-defined and being set to 0.0 due to no true samples. Use `zero_division` parameter to control this behavior.\n",
      "  _warn_prf(average, modifier, f\"{metric.capitalize()} is\", len(result))\n",
      "/home/vantuan_ngo/.local/lib/python3.10/site-packages/sklearn/metrics/_classification.py:1565: UndefinedMetricWarning: F-score is ill-defined and being set to 0.0 due to no true nor predicted samples. Use `zero_division` parameter to control this behavior.\n",
      "  _warn_prf(average, modifier, f\"{metric.capitalize()} is\", len(result))\n"
     ]
    },
    {
     "name": "stdout",
     "output_type": "stream",
     "text": [
      "Building PDF\n",
      "PDF built\n",
      "------- sir  2\n",
      "test_sir_df.shape: (745, 7)\n",
      "tests.shape: torch.Size([745, 2, 300, 14])\n",
      "ground_truths.shape: torch.Size([745, 1])\n",
      "anomaly_maps.shape: (745, 1, 300, 14)\n",
      "anomaly_bins.shape: (745, 1, 300, 14)\n",
      "verdicts.shape: (745, 1)\n",
      "ground_truths.shape: (745, 1)\n",
      "Accuracy: 0.0000\n",
      "Precision: 0.0000\n",
      "Recall: 0.0000\n",
      "F1 Score: 0.0000\n",
      "Confusion Matrix:\n",
      "[[  0   0]\n",
      " [745   0]]\n",
      "Accuracy: 0.0000\n",
      "Precision: 0.0000\n",
      "Recall: 0.0000\n",
      "F1 Score: 0.0000\n",
      "Confusion Matrix:\n",
      "[[  0   0]\n",
      " [745   0]]\n"
     ]
    },
    {
     "name": "stderr",
     "output_type": "stream",
     "text": [
      "/home/vantuan_ngo/.local/lib/python3.10/site-packages/sklearn/metrics/_classification.py:1565: UndefinedMetricWarning: Precision is ill-defined and being set to 0.0 due to no predicted samples. Use `zero_division` parameter to control this behavior.\n",
      "  _warn_prf(average, modifier, f\"{metric.capitalize()} is\", len(result))\n",
      "/home/vantuan_ngo/.local/lib/python3.10/site-packages/sklearn/metrics/_classification.py:1565: UndefinedMetricWarning: Precision is ill-defined and being set to 0.0 due to no predicted samples. Use `zero_division` parameter to control this behavior.\n",
      "  _warn_prf(average, modifier, f\"{metric.capitalize()} is\", len(result))\n"
     ]
    },
    {
     "name": "stdout",
     "output_type": "stream",
     "text": [
      "Building PDF\n",
      "PDF built\n",
      "------- sir  4\n",
      "test_sir_df.shape: (783, 7)\n",
      "tests.shape: torch.Size([783, 2, 300, 14])\n",
      "ground_truths.shape: torch.Size([783, 1])\n",
      "anomaly_maps.shape: (783, 1, 300, 14)\n",
      "anomaly_bins.shape: (783, 1, 300, 14)\n",
      "verdicts.shape: (783, 1)\n",
      "ground_truths.shape: (783, 1)\n",
      "Accuracy: 0.0000\n",
      "Precision: 0.0000\n",
      "Recall: 0.0000\n",
      "F1 Score: 0.0000\n",
      "Confusion Matrix:\n",
      "[[  0   0]\n",
      " [783   0]]\n",
      "Accuracy: 0.0000\n",
      "Precision: 0.0000\n",
      "Recall: 0.0000\n",
      "F1 Score: 0.0000\n",
      "Confusion Matrix:\n",
      "[[  0   0]\n",
      " [783   0]]\n"
     ]
    },
    {
     "name": "stderr",
     "output_type": "stream",
     "text": [
      "/home/vantuan_ngo/.local/lib/python3.10/site-packages/sklearn/metrics/_classification.py:1565: UndefinedMetricWarning: Precision is ill-defined and being set to 0.0 due to no predicted samples. Use `zero_division` parameter to control this behavior.\n",
      "  _warn_prf(average, modifier, f\"{metric.capitalize()} is\", len(result))\n",
      "/home/vantuan_ngo/.local/lib/python3.10/site-packages/sklearn/metrics/_classification.py:1565: UndefinedMetricWarning: Precision is ill-defined and being set to 0.0 due to no predicted samples. Use `zero_division` parameter to control this behavior.\n",
      "  _warn_prf(average, modifier, f\"{metric.capitalize()} is\", len(result))\n"
     ]
    },
    {
     "name": "stdout",
     "output_type": "stream",
     "text": [
      "Building PDF\n",
      "PDF built\n",
      "------- sir  6\n",
      "test_sir_df.shape: (964, 7)\n",
      "tests.shape: torch.Size([964, 2, 300, 14])\n",
      "ground_truths.shape: torch.Size([964, 1])\n",
      "anomaly_maps.shape: (964, 1, 300, 14)\n",
      "anomaly_bins.shape: (964, 1, 300, 14)\n",
      "verdicts.shape: (964, 1)\n",
      "ground_truths.shape: (964, 1)\n",
      "Accuracy: 0.0000\n",
      "Precision: 0.0000\n",
      "Recall: 0.0000\n",
      "F1 Score: 0.0000\n",
      "Confusion Matrix:\n",
      "[[  0   0]\n",
      " [964   0]]\n",
      "Accuracy: 0.0000\n",
      "Precision: 0.0000\n",
      "Recall: 0.0000\n",
      "F1 Score: 0.0000\n",
      "Confusion Matrix:\n",
      "[[  0   0]\n",
      " [964   0]]\n"
     ]
    },
    {
     "name": "stderr",
     "output_type": "stream",
     "text": [
      "/home/vantuan_ngo/.local/lib/python3.10/site-packages/sklearn/metrics/_classification.py:1565: UndefinedMetricWarning: Precision is ill-defined and being set to 0.0 due to no predicted samples. Use `zero_division` parameter to control this behavior.\n",
      "  _warn_prf(average, modifier, f\"{metric.capitalize()} is\", len(result))\n",
      "/home/vantuan_ngo/.local/lib/python3.10/site-packages/sklearn/metrics/_classification.py:1565: UndefinedMetricWarning: Precision is ill-defined and being set to 0.0 due to no predicted samples. Use `zero_division` parameter to control this behavior.\n",
      "  _warn_prf(average, modifier, f\"{metric.capitalize()} is\", len(result))\n"
     ]
    },
    {
     "name": "stdout",
     "output_type": "stream",
     "text": [
      "Building PDF\n",
      "PDF built\n",
      "------- sir  8\n",
      "test_sir_df.shape: (1160, 7)\n",
      "tests.shape: torch.Size([1160, 2, 300, 14])\n",
      "ground_truths.shape: torch.Size([1160, 1])\n",
      "anomaly_maps.shape: (1160, 1, 300, 14)\n",
      "anomaly_bins.shape: (1160, 1, 300, 14)\n",
      "verdicts.shape: (1160, 1)\n",
      "ground_truths.shape: (1160, 1)\n",
      "Accuracy: 0.0000\n",
      "Precision: 0.0000\n",
      "Recall: 0.0000\n",
      "F1 Score: 0.0000\n",
      "Confusion Matrix:\n",
      "[[   0    0]\n",
      " [1160    0]]\n",
      "Accuracy: 0.0000\n",
      "Precision: 0.0000\n",
      "Recall: 0.0000\n",
      "F1 Score: 0.0000\n",
      "Confusion Matrix:\n",
      "[[   0    0]\n",
      " [1160    0]]\n"
     ]
    },
    {
     "name": "stderr",
     "output_type": "stream",
     "text": [
      "/home/vantuan_ngo/.local/lib/python3.10/site-packages/sklearn/metrics/_classification.py:1565: UndefinedMetricWarning: Precision is ill-defined and being set to 0.0 due to no predicted samples. Use `zero_division` parameter to control this behavior.\n",
      "  _warn_prf(average, modifier, f\"{metric.capitalize()} is\", len(result))\n",
      "/home/vantuan_ngo/.local/lib/python3.10/site-packages/sklearn/metrics/_classification.py:1565: UndefinedMetricWarning: Precision is ill-defined and being set to 0.0 due to no predicted samples. Use `zero_division` parameter to control this behavior.\n",
      "  _warn_prf(average, modifier, f\"{metric.capitalize()} is\", len(result))\n"
     ]
    },
    {
     "name": "stdout",
     "output_type": "stream",
     "text": [
      "Building PDF\n",
      "PDF built\n",
      "------- sir  10\n",
      "test_sir_df.shape: (1160, 7)\n",
      "tests.shape: torch.Size([1160, 2, 300, 14])\n",
      "ground_truths.shape: torch.Size([1160, 1])\n",
      "anomaly_maps.shape: (1160, 1, 300, 14)\n",
      "anomaly_bins.shape: (1160, 1, 300, 14)\n",
      "verdicts.shape: (1160, 1)\n",
      "ground_truths.shape: (1160, 1)\n",
      "Accuracy: 0.0000\n",
      "Precision: 0.0000\n",
      "Recall: 0.0000\n",
      "F1 Score: 0.0000\n",
      "Confusion Matrix:\n",
      "[[   0    0]\n",
      " [1160    0]]\n",
      "Accuracy: 0.0000\n",
      "Precision: 0.0000\n",
      "Recall: 0.0000\n",
      "F1 Score: 0.0000\n",
      "Confusion Matrix:\n",
      "[[   0    0]\n",
      " [1160    0]]\n"
     ]
    },
    {
     "name": "stderr",
     "output_type": "stream",
     "text": [
      "/home/vantuan_ngo/.local/lib/python3.10/site-packages/sklearn/metrics/_classification.py:1565: UndefinedMetricWarning: Precision is ill-defined and being set to 0.0 due to no predicted samples. Use `zero_division` parameter to control this behavior.\n",
      "  _warn_prf(average, modifier, f\"{metric.capitalize()} is\", len(result))\n",
      "/home/vantuan_ngo/.local/lib/python3.10/site-packages/sklearn/metrics/_classification.py:1565: UndefinedMetricWarning: Precision is ill-defined and being set to 0.0 due to no predicted samples. Use `zero_division` parameter to control this behavior.\n",
      "  _warn_prf(average, modifier, f\"{metric.capitalize()} is\", len(result))\n"
     ]
    },
    {
     "name": "stdout",
     "output_type": "stream",
     "text": [
      "Building PDF\n",
      "PDF built\n",
      "------- sir  14\n",
      "test_sir_df.shape: (1180, 7)\n",
      "tests.shape: torch.Size([1180, 2, 300, 14])\n",
      "ground_truths.shape: torch.Size([1180, 1])\n",
      "anomaly_maps.shape: (1180, 1, 300, 14)\n",
      "anomaly_bins.shape: (1180, 1, 300, 14)\n",
      "verdicts.shape: (1180, 1)\n",
      "ground_truths.shape: (1180, 1)\n",
      "Accuracy: 0.0000\n",
      "Precision: 0.0000\n",
      "Recall: 0.0000\n",
      "F1 Score: 0.0000\n",
      "Confusion Matrix:\n",
      "[[   0    0]\n",
      " [1180    0]]\n",
      "Accuracy: 0.0000\n",
      "Precision: 0.0000\n",
      "Recall: 0.0000\n",
      "F1 Score: 0.0000\n",
      "Confusion Matrix:\n",
      "[[   0    0]\n",
      " [1180    0]]\n"
     ]
    },
    {
     "name": "stderr",
     "output_type": "stream",
     "text": [
      "/home/vantuan_ngo/.local/lib/python3.10/site-packages/sklearn/metrics/_classification.py:1565: UndefinedMetricWarning: Precision is ill-defined and being set to 0.0 due to no predicted samples. Use `zero_division` parameter to control this behavior.\n",
      "  _warn_prf(average, modifier, f\"{metric.capitalize()} is\", len(result))\n",
      "/home/vantuan_ngo/.local/lib/python3.10/site-packages/sklearn/metrics/_classification.py:1565: UndefinedMetricWarning: Precision is ill-defined and being set to 0.0 due to no predicted samples. Use `zero_division` parameter to control this behavior.\n",
      "  _warn_prf(average, modifier, f\"{metric.capitalize()} is\", len(result))\n"
     ]
    },
    {
     "name": "stdout",
     "output_type": "stream",
     "text": [
      "Building PDF\n",
      "PDF built\n",
      "------- sir  18\n",
      "test_sir_df.shape: (1275, 7)\n",
      "tests.shape: torch.Size([1275, 2, 300, 14])\n",
      "ground_truths.shape: torch.Size([1275, 1])\n",
      "anomaly_maps.shape: (1275, 1, 300, 14)\n",
      "anomaly_bins.shape: (1275, 1, 300, 14)\n",
      "verdicts.shape: (1275, 1)\n",
      "ground_truths.shape: (1275, 1)\n",
      "Accuracy: 0.0000\n",
      "Precision: 0.0000\n",
      "Recall: 0.0000\n",
      "F1 Score: 0.0000\n",
      "Confusion Matrix:\n",
      "[[   0    0]\n",
      " [1275    0]]\n",
      "Accuracy: 0.0000\n",
      "Precision: 0.0000\n",
      "Recall: 0.0000\n",
      "F1 Score: 0.0000\n",
      "Confusion Matrix:\n",
      "[[   0    0]\n",
      " [1275    0]]\n"
     ]
    },
    {
     "name": "stderr",
     "output_type": "stream",
     "text": [
      "/home/vantuan_ngo/.local/lib/python3.10/site-packages/sklearn/metrics/_classification.py:1565: UndefinedMetricWarning: Precision is ill-defined and being set to 0.0 due to no predicted samples. Use `zero_division` parameter to control this behavior.\n",
      "  _warn_prf(average, modifier, f\"{metric.capitalize()} is\", len(result))\n",
      "/home/vantuan_ngo/.local/lib/python3.10/site-packages/sklearn/metrics/_classification.py:1565: UndefinedMetricWarning: Precision is ill-defined and being set to 0.0 due to no predicted samples. Use `zero_division` parameter to control this behavior.\n",
      "  _warn_prf(average, modifier, f\"{metric.capitalize()} is\", len(result))\n"
     ]
    },
    {
     "name": "stdout",
     "output_type": "stream",
     "text": [
      "Building PDF\n",
      "PDF built\n",
      "------- sir  22\n",
      "test_sir_df.shape: (1275, 7)\n",
      "tests.shape: torch.Size([1275, 2, 300, 14])\n",
      "ground_truths.shape: torch.Size([1275, 1])\n",
      "anomaly_maps.shape: (1275, 1, 300, 14)\n",
      "anomaly_bins.shape: (1275, 1, 300, 14)\n",
      "verdicts.shape: (1275, 1)\n",
      "ground_truths.shape: (1275, 1)\n",
      "Accuracy: 0.0000\n",
      "Precision: 0.0000\n",
      "Recall: 0.0000\n",
      "F1 Score: 0.0000\n",
      "Confusion Matrix:\n",
      "[[   0    0]\n",
      " [1275    0]]\n",
      "Accuracy: 0.0000\n",
      "Precision: 0.0000\n",
      "Recall: 0.0000\n",
      "F1 Score: 0.0000\n",
      "Confusion Matrix:\n",
      "[[   0    0]\n",
      " [1275    0]]\n"
     ]
    },
    {
     "name": "stderr",
     "output_type": "stream",
     "text": [
      "/home/vantuan_ngo/.local/lib/python3.10/site-packages/sklearn/metrics/_classification.py:1565: UndefinedMetricWarning: Precision is ill-defined and being set to 0.0 due to no predicted samples. Use `zero_division` parameter to control this behavior.\n",
      "  _warn_prf(average, modifier, f\"{metric.capitalize()} is\", len(result))\n",
      "/home/vantuan_ngo/.local/lib/python3.10/site-packages/sklearn/metrics/_classification.py:1565: UndefinedMetricWarning: Precision is ill-defined and being set to 0.0 due to no predicted samples. Use `zero_division` parameter to control this behavior.\n",
      "  _warn_prf(average, modifier, f\"{metric.capitalize()} is\", len(result))\n"
     ]
    },
    {
     "name": "stdout",
     "output_type": "stream",
     "text": [
      "Building PDF\n",
      "PDF built\n",
      "------- sir  26\n",
      "test_sir_df.shape: (1320, 7)\n",
      "tests.shape: torch.Size([1320, 2, 300, 14])\n",
      "ground_truths.shape: torch.Size([1320, 1])\n",
      "anomaly_maps.shape: (1320, 1, 300, 14)\n",
      "anomaly_bins.shape: (1320, 1, 300, 14)\n",
      "verdicts.shape: (1320, 1)\n",
      "ground_truths.shape: (1320, 1)\n",
      "Accuracy: 0.0000\n",
      "Precision: 0.0000\n",
      "Recall: 0.0000\n",
      "F1 Score: 0.0000\n",
      "Confusion Matrix:\n",
      "[[   0    0]\n",
      " [1320    0]]\n"
     ]
    },
    {
     "name": "stderr",
     "output_type": "stream",
     "text": [
      "/home/vantuan_ngo/.local/lib/python3.10/site-packages/sklearn/metrics/_classification.py:1565: UndefinedMetricWarning: Precision is ill-defined and being set to 0.0 due to no predicted samples. Use `zero_division` parameter to control this behavior.\n",
      "  _warn_prf(average, modifier, f\"{metric.capitalize()} is\", len(result))\n",
      "/home/vantuan_ngo/.local/lib/python3.10/site-packages/sklearn/metrics/_classification.py:1565: UndefinedMetricWarning: Precision is ill-defined and being set to 0.0 due to no predicted samples. Use `zero_division` parameter to control this behavior.\n",
      "  _warn_prf(average, modifier, f\"{metric.capitalize()} is\", len(result))\n"
     ]
    },
    {
     "name": "stdout",
     "output_type": "stream",
     "text": [
      "Accuracy: 0.0000\n",
      "Precision: 0.0000\n",
      "Recall: 0.0000\n",
      "F1 Score: 0.0000\n",
      "Confusion Matrix:\n",
      "[[   0    0]\n",
      " [1320    0]]\n",
      "Building PDF\n",
      "PDF built\n",
      "------- sir  30\n",
      "test_sir_df.shape: (1305, 7)\n",
      "tests.shape: torch.Size([1305, 2, 300, 14])\n",
      "ground_truths.shape: torch.Size([1305, 1])\n",
      "anomaly_maps.shape: (1305, 1, 300, 14)\n",
      "anomaly_bins.shape: (1305, 1, 300, 14)\n",
      "verdicts.shape: (1305, 1)\n",
      "ground_truths.shape: (1305, 1)\n",
      "Accuracy: 0.0000\n",
      "Precision: 0.0000\n",
      "Recall: 0.0000\n",
      "F1 Score: 0.0000\n",
      "Confusion Matrix:\n",
      "[[   0    0]\n",
      " [1305    0]]\n",
      "Accuracy: 0.0000\n",
      "Precision: 0.0000\n",
      "Recall: 0.0000\n",
      "F1 Score: 0.0000\n",
      "Confusion Matrix:\n",
      "[[   0    0]\n",
      " [1305    0]]\n"
     ]
    },
    {
     "name": "stderr",
     "output_type": "stream",
     "text": [
      "/home/vantuan_ngo/.local/lib/python3.10/site-packages/sklearn/metrics/_classification.py:1565: UndefinedMetricWarning: Precision is ill-defined and being set to 0.0 due to no predicted samples. Use `zero_division` parameter to control this behavior.\n",
      "  _warn_prf(average, modifier, f\"{metric.capitalize()} is\", len(result))\n",
      "/home/vantuan_ngo/.local/lib/python3.10/site-packages/sklearn/metrics/_classification.py:1565: UndefinedMetricWarning: Precision is ill-defined and being set to 0.0 due to no predicted samples. Use `zero_division` parameter to control this behavior.\n",
      "  _warn_prf(average, modifier, f\"{metric.capitalize()} is\", len(result))\n"
     ]
    },
    {
     "name": "stdout",
     "output_type": "stream",
     "text": [
      "Building PDF\n",
      "PDF built\n",
      "------- sir  34\n",
      "test_sir_df.shape: (1275, 7)\n",
      "tests.shape: torch.Size([1275, 2, 300, 14])\n",
      "ground_truths.shape: torch.Size([1275, 1])\n",
      "anomaly_maps.shape: (1275, 1, 300, 14)\n",
      "anomaly_bins.shape: (1275, 1, 300, 14)\n",
      "verdicts.shape: (1275, 1)\n",
      "ground_truths.shape: (1275, 1)\n",
      "Accuracy: 0.0000\n",
      "Precision: 0.0000\n",
      "Recall: 0.0000\n",
      "F1 Score: 0.0000\n",
      "Confusion Matrix:\n",
      "[[   0    0]\n",
      " [1275    0]]\n",
      "Accuracy: 0.0000\n",
      "Precision: 0.0000\n",
      "Recall: 0.0000\n",
      "F1 Score: 0.0000\n",
      "Confusion Matrix:\n",
      "[[   0    0]\n",
      " [1275    0]]\n"
     ]
    },
    {
     "name": "stderr",
     "output_type": "stream",
     "text": [
      "/home/vantuan_ngo/.local/lib/python3.10/site-packages/sklearn/metrics/_classification.py:1565: UndefinedMetricWarning: Precision is ill-defined and being set to 0.0 due to no predicted samples. Use `zero_division` parameter to control this behavior.\n",
      "  _warn_prf(average, modifier, f\"{metric.capitalize()} is\", len(result))\n",
      "/home/vantuan_ngo/.local/lib/python3.10/site-packages/sklearn/metrics/_classification.py:1565: UndefinedMetricWarning: Precision is ill-defined and being set to 0.0 due to no predicted samples. Use `zero_division` parameter to control this behavior.\n",
      "  _warn_prf(average, modifier, f\"{metric.capitalize()} is\", len(result))\n"
     ]
    },
    {
     "name": "stdout",
     "output_type": "stream",
     "text": [
      "Building PDF\n",
      "PDF built\n",
      "------- sir  38\n",
      "test_sir_df.shape: (980, 7)\n",
      "tests.shape: torch.Size([980, 2, 300, 14])\n",
      "ground_truths.shape: torch.Size([980, 1])\n",
      "anomaly_maps.shape: (980, 1, 300, 14)\n",
      "anomaly_bins.shape: (980, 1, 300, 14)\n",
      "verdicts.shape: (980, 1)\n",
      "ground_truths.shape: (980, 1)\n",
      "Accuracy: 0.0000\n",
      "Precision: 0.0000\n",
      "Recall: 0.0000\n",
      "F1 Score: 0.0000\n",
      "Confusion Matrix:\n",
      "[[  0   0]\n",
      " [980   0]]\n",
      "Accuracy: 0.0000\n",
      "Precision: 0.0000\n",
      "Recall: 0.0000\n",
      "F1 Score: 0.0000\n",
      "Confusion Matrix:\n",
      "[[  0   0]\n",
      " [980   0]]\n"
     ]
    },
    {
     "name": "stderr",
     "output_type": "stream",
     "text": [
      "/home/vantuan_ngo/.local/lib/python3.10/site-packages/sklearn/metrics/_classification.py:1565: UndefinedMetricWarning: Precision is ill-defined and being set to 0.0 due to no predicted samples. Use `zero_division` parameter to control this behavior.\n",
      "  _warn_prf(average, modifier, f\"{metric.capitalize()} is\", len(result))\n",
      "/home/vantuan_ngo/.local/lib/python3.10/site-packages/sklearn/metrics/_classification.py:1565: UndefinedMetricWarning: Precision is ill-defined and being set to 0.0 due to no predicted samples. Use `zero_division` parameter to control this behavior.\n",
      "  _warn_prf(average, modifier, f\"{metric.capitalize()} is\", len(result))\n"
     ]
    },
    {
     "name": "stdout",
     "output_type": "stream",
     "text": [
      "Building PDF\n",
      "PDF built\n"
     ]
    }
   ],
   "source": [
    "from utils import *\n",
    "from sklearn.metrics import f1_score\n",
    "# Calculate accuracy\n",
    "from sklearn.metrics import accuracy_score, precision_score, recall_score, f1_score, confusion_matrix\n",
    "\n",
    "os.makedirs(\"./anomaly\", exist_ok=True)\n",
    "\n",
    "SNR = 2\n",
    "\n",
    "test_on_a_SNR = test_df[test_df[\"SNR\"] == SNR]\n",
    "SIRs = test_on_a_SNR[\"SIR\"].unique()\n",
    "SIRs.sort()\n",
    "print(SIRs)\n",
    "\n",
    "for sir in SIRs:\n",
    "    print(\"------- sir \", sir)\n",
    "    test_sir_df = test_on_a_SNR[test_on_a_SNR[\"SIR\"] == sir]\n",
    "\n",
    "    print(f'test_sir_df.shape: {test_sir_df.shape}')\n",
    "    tests, ground_truths = load_test_dataset(test_sir_df)\n",
    "\n",
    "    print(f'tests.shape: {tests.shape}')\n",
    "    print(f'ground_truths.shape: {ground_truths.shape}')\n",
    "\n",
    "    # print(tests.shape)\n",
    "    # print(ground_truths.shape)\n",
    "\n",
    "    test_dataset = TensorDataset(tests, ground_truths)\n",
    "    test_loader = DataLoader(test_dataset, batch_size=16, shuffle=False)\n",
    "    \n",
    "    anomaly_maps = []\n",
    "    anomaly_bins = []\n",
    "    verdicts = []\n",
    "    ground_truths = []\n",
    "    for batch_idx, (test_batch, ground_truth_batch) in enumerate(test_loader):\n",
    "        test_batch = test_batch.to(device)\n",
    "        ground_truth_batch = ground_truth_batch.to(device)\n",
    "        recon, _, _ = model(test_batch)\n",
    "\n",
    "        anomaly_map_batch = generate_anomaly_map(test_batch, recon)\n",
    "        anomaly_map_batch = anomaly_map_batch.detach().cpu().numpy()\n",
    "        dynamic_threshold = np.percentile(anomaly_map_batch, 99)\n",
    "        threshold = max(0.041708, dynamic_threshold)\n",
    "        # print(f\"Threshold for frequency {frq:08d}: {threshold:.04f}\")\n",
    "        # print(f\"Threshold for frequency {frq:08d}: {threshold:.04f}\")\n",
    "        anomaly_bin_batch = (anomaly_map_batch > threshold)\n",
    "        # print(f\"anomaly_map_batch.shape: {anomaly_map_batch.shape}\")\n",
    "        # print(f\"anomaly_bin_batch.shape: {anomaly_bin_batch.shape}\")\n",
    "        ground_truth_batch = ground_truth_batch.detach().cpu().numpy()\n",
    "\n",
    "        verdicts_batch = [[1] if np.sum(anomaly_map) > 300*14*0.05 else [0] for anomaly_map in anomaly_map_batch]\n",
    "\n",
    "        anomaly_maps.append(anomaly_map_batch)\n",
    "        anomaly_bins.append(anomaly_bin_batch)\n",
    "        verdicts.append(verdicts_batch)\n",
    "        ground_truths.append(ground_truth_batch)\n",
    "\n",
    "    # Concatenate all batches\n",
    "    anomaly_maps = np.concatenate(anomaly_maps, axis=0)\n",
    "    anomaly_bins = np.concatenate(anomaly_bins, axis=0)\n",
    "    verdicts = np.concatenate(verdicts, axis=0)\n",
    "    ground_truths = np.concatenate(ground_truths, axis=0)\n",
    "\n",
    "    anomaly_maps = np.array(anomaly_maps)\n",
    "    anomaly_bins = np.array(anomaly_bins).astype(np.int32)\n",
    "    verdicts = np.array(verdicts).astype(np.int32)\n",
    "    ground_truths = np.array(ground_truths).astype(np.int32)\n",
    "    print(f\"anomaly_maps.shape: {anomaly_maps.shape}\")\n",
    "    print(f\"anomaly_bins.shape: {anomaly_bins.shape}\")\n",
    "    print(f\"verdicts.shape: {verdicts.shape}\")\n",
    "    print(f\"ground_truths.shape: {ground_truths.shape}\")\n",
    "\n",
    "    # Calculate accuracy\n",
    "    accuracy = accuracy_score(ground_truths, verdicts)\n",
    "    precision = precision_score(ground_truths, verdicts, average='binary')\n",
    "    recall = recall_score(ground_truths, verdicts, average='binary')\n",
    "    f1 = f1_score(ground_truths, verdicts, average='binary')\n",
    "\n",
    "    # Calculate confusion matrix with explicit labels to avoid warning\n",
    "    cm = confusion_matrix(ground_truths, verdicts, labels=[0, 1])\n",
    "\n",
    "    print(f\"Accuracy: {accuracy:.4f}\")\n",
    "    print(f\"Precision: {precision:.4f}\")\n",
    "    print(f\"Recall: {recall:.4f}\")\n",
    "    print(f\"F1 Score: {f1:.4f}\")\n",
    "    print(f\"Confusion Matrix:\")\n",
    "    print(cm)\n",
    "\n",
    "    gen_report(f\"./anomaly/anomaly_maps_SNR_{SNR}_SIR_{sir}\", anomaly_maps, anomaly_bins, verdicts, ground_truths)"
   ]
  }
 ],
 "metadata": {
  "kernelspec": {
   "display_name": "Python 3",
   "language": "python",
   "name": "python3"
  },
  "language_info": {
   "codemirror_mode": {
    "name": "ipython",
    "version": 3
   },
   "file_extension": ".py",
   "mimetype": "text/x-python",
   "name": "python",
   "nbconvert_exporter": "python",
   "pygments_lexer": "ipython3",
   "version": "3.10.12"
  }
 },
 "nbformat": 4,
 "nbformat_minor": 2
}
