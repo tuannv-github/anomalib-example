{
 "cells": [
  {
   "cell_type": "code",
   "execution_count": 1,
   "metadata": {},
   "outputs": [],
   "source": [
    "import scipy.io as spio\n",
    "import torch\n",
    "import numpy as np"
   ]
  },
  {
   "cell_type": "code",
   "execution_count": 3,
   "metadata": {},
   "outputs": [],
   "source": [
    "# Load the .mat file\n",
    "mat_file = spio.loadmat('./datasets/FccIQ/synthetic/train/good/noise_interference_slot_1.mat')"
   ]
  },
  {
   "cell_type": "code",
   "execution_count": 4,
   "metadata": {},
   "outputs": [
    {
     "name": "stdout",
     "output_type": "stream",
     "text": [
      "dict_keys(['__header__', '__version__', '__globals__', 'H_IQ'])\n"
     ]
    }
   ],
   "source": [
    "# Inspect the contents of the .mat file (it's a dictionary)\n",
    "print(mat_file.keys())"
   ]
  },
  {
   "cell_type": "code",
   "execution_count": 5,
   "metadata": {},
   "outputs": [],
   "source": [
    "# Assume the data you want is stored under a key, e.g., 'data'\n",
    "# Replace 'data' with the actual key from your .mat file\n",
    "data = mat_file['H_IQ']"
   ]
  },
  {
   "cell_type": "code",
   "execution_count": 7,
   "metadata": {},
   "outputs": [
    {
     "name": "stdout",
     "output_type": "stream",
     "text": [
      "torch.Size([300, 14, 2])\n",
      "tensor([[[1.1083, 0.3612],\n",
      "         [1.1247, 0.3685],\n",
      "         [1.1082, 0.3657],\n",
      "         ...,\n",
      "         [1.1442, 0.3317],\n",
      "         [1.1420, 0.3434],\n",
      "         [1.1404, 0.3213]],\n",
      "\n",
      "        [[1.1075, 0.3751],\n",
      "         [1.1045, 0.3609],\n",
      "         [-0.0000, -0.0000],\n",
      "         ...,\n",
      "         [-0.0000, -0.0000],\n",
      "         [1.1481, 0.3441],\n",
      "         [1.1478, 0.3294]],\n",
      "\n",
      "        [[1.1068, 0.3691],\n",
      "         [1.1302, 0.3696],\n",
      "         [1.0958, 0.3658],\n",
      "         ...,\n",
      "         [1.1338, 0.3395],\n",
      "         [1.1423, 0.3367],\n",
      "         [1.1363, 0.3488]],\n",
      "\n",
      "        ...,\n",
      "\n",
      "        [[0.8386, 0.7793],\n",
      "         [0.8563, 0.7839],\n",
      "         [-0.0000, 0.0000],\n",
      "         ...,\n",
      "         [-0.0000, -0.0000],\n",
      "         [0.8232, 0.7836],\n",
      "         [0.8380, 0.7921]],\n",
      "\n",
      "        [[0.8404, 0.8174],\n",
      "         [0.8508, 0.7818],\n",
      "         [0.8462, 0.8106],\n",
      "         ...,\n",
      "         [0.8282, 0.7938],\n",
      "         [0.8229, 0.8162],\n",
      "         [0.8023, 0.7843]],\n",
      "\n",
      "        [[0.8400, 0.8213],\n",
      "         [0.8250, 0.8264],\n",
      "         [-0.0000, 0.0000],\n",
      "         ...,\n",
      "         [0.0000, 0.0000],\n",
      "         [0.8308, 0.8098],\n",
      "         [0.8474, 0.7790]]])\n"
     ]
    }
   ],
   "source": [
    "# Convert NumPy array to PyTorch tensor\n",
    "tensor_data = torch.from_numpy(data).float()  # Use .float() to ensure torch.float32 type\n",
    "# Print the tensor\n",
    "print(tensor_data.shape)\n",
    "print(tensor_data)"
   ]
  }
 ],
 "metadata": {
  "kernelspec": {
   "display_name": "Python 3",
   "language": "python",
   "name": "python3"
  },
  "language_info": {
   "codemirror_mode": {
    "name": "ipython",
    "version": 3
   },
   "file_extension": ".py",
   "mimetype": "text/x-python",
   "name": "python",
   "nbconvert_exporter": "python",
   "pygments_lexer": "ipython3",
   "version": "3.10.12"
  }
 },
 "nbformat": 4,
 "nbformat_minor": 2
}
